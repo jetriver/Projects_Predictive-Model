{
 "cells": [
  {
   "cell_type": "markdown",
   "metadata": {
    "colab_type": "text",
    "id": "OPDL4UgmDEmg"
   },
   "source": [
    "Step 1:\n",
    "EDA STEPS:\n",
    "1.Indexing data\n",
    "\n",
    "2.Visualize data(check the statistical data for each column)\n",
    "\n",
    "3.Barchart/piechart(default rate in different regions, default rate in different types)\n",
    "\n",
    "4.Attribute(numeric(correlation),rank the top 10 correlation),\n",
    "EDA\n",
    "https://www.kaggle.com/willkoehrsen/start-here-a-gentle-introduction\n",
    "simple histogram and distribution.\n",
    "\n",
    "5. Correlation (with the target varaible)\n",
    "\n",
    "Step 2:\n",
    "\n",
    "pre-processing\n",
    "missing value (impute(), delete)\n",
    "\n",
    "understanding each column, understanding the relationship between feature and target\n",
    "\n",
    "categorical varaible (onehot encoding)\n",
    "\n",
    "\n",
    "Step 3:\n",
    "Model:\n",
    "\n",
    "1.Naive-Bayes\n",
    "\n",
    "2.Logistic regression\n",
    "\n",
    "3.Neuro Network\n",
    "\n",
    "4.Decision tree\n",
    "\n",
    "5. Random Forest\n",
    "https://scikit-learn.org/stable/modules/generated/sklearn.ensemble.RandomForestClassifier.html\n",
    "\n",
    "6. Adaboost\n",
    "https://scikit-learn.org/stable/modules/generated/sklearn.ensemble.AdaBoostClassifier.html\n",
    "\n",
    "Step 4:\n",
    "Evaluate the model and compare it\n",
    "cross_val_score\n",
    "accuracy\n",
    "\n"
   ]
  },
  {
   "cell_type": "code",
   "execution_count": 1,
   "metadata": {
    "colab_type": "text",
    "id": "EcGLfDjpDEmm"
   },
   "outputs": [
    {
     "data": {
      "text/plain": [
       "13093511950.0"
      ]
     },
     "execution_count": 1,
     "metadata": {},
     "output_type": "execute_result"
    }
   ],
   "source": [
    "##Thanks for Janio Alexander's code\n",
    "\n",
    "##importing packages and data\n",
    "import pandas as pd\n",
    "import numpy as np\n",
    "loan=pd.read_csv('/Users/taotao/Desktop/loan/loan.csv',low_memory=False)\n",
    "loan_original=loan.copy()\n",
    "\n",
    "##import packages for visualizing data\n",
    "import matplotlib.pyplot as plt\n",
    "import seaborn as sns\n",
    "\n",
    "# sklearn preprocessing for dealing with categorical variables\n",
    "from sklearn.preprocessing import LabelEncoder\n",
    "\n",
    "##visualize data\n",
    "loan.head()\n",
    "loan['loan_amnt'].sum()"
   ]
  },
  {
   "cell_type": "code",
   "execution_count": 2,
   "metadata": {
    "scrolled": true
   },
   "outputs": [
    {
     "data": {
      "text/plain": [
       "float64    49\n",
       "object     23\n",
       "int64       2\n",
       "dtype: int64"
      ]
     },
     "execution_count": 2,
     "metadata": {},
     "output_type": "execute_result"
    }
   ],
   "source": [
    "# Number of each type of column\n",
    "loan.dtypes.value_counts()"
   ]
  },
  {
   "cell_type": "code",
   "execution_count": 3,
   "metadata": {},
   "outputs": [],
   "source": [
    "##drop some unrelated columns \n",
    "loan.drop(['id', 'member_id', 'emp_title', 'url', 'desc', 'zip_code', 'title'], axis=1, inplace=True)"
   ]
  },
  {
   "cell_type": "code",
   "execution_count": 4,
   "metadata": {},
   "outputs": [
    {
     "data": {
      "text/html": [
       "<div>\n",
       "<style scoped>\n",
       "    .dataframe tbody tr th:only-of-type {\n",
       "        vertical-align: middle;\n",
       "    }\n",
       "\n",
       "    .dataframe tbody tr th {\n",
       "        vertical-align: top;\n",
       "    }\n",
       "\n",
       "    .dataframe thead th {\n",
       "        text-align: right;\n",
       "    }\n",
       "</style>\n",
       "<table border=\"1\" class=\"dataframe\">\n",
       "  <thead>\n",
       "    <tr style=\"text-align: right;\">\n",
       "      <th></th>\n",
       "      <th>missing value</th>\n",
       "      <th>missing ratio</th>\n",
       "    </tr>\n",
       "  </thead>\n",
       "  <tbody>\n",
       "    <tr>\n",
       "      <th>dti_joint</th>\n",
       "      <td>886870</td>\n",
       "      <td>99.942640</td>\n",
       "    </tr>\n",
       "    <tr>\n",
       "      <th>annual_inc_joint</th>\n",
       "      <td>886868</td>\n",
       "      <td>99.942415</td>\n",
       "    </tr>\n",
       "    <tr>\n",
       "      <th>verification_status_joint</th>\n",
       "      <td>886868</td>\n",
       "      <td>99.942415</td>\n",
       "    </tr>\n",
       "    <tr>\n",
       "      <th>il_util</th>\n",
       "      <td>868762</td>\n",
       "      <td>97.902024</td>\n",
       "    </tr>\n",
       "    <tr>\n",
       "      <th>mths_since_rcnt_il</th>\n",
       "      <td>866569</td>\n",
       "      <td>97.654892</td>\n",
       "    </tr>\n",
       "    <tr>\n",
       "      <th>total_cu_tl</th>\n",
       "      <td>866007</td>\n",
       "      <td>97.591559</td>\n",
       "    </tr>\n",
       "    <tr>\n",
       "      <th>inq_fi</th>\n",
       "      <td>866007</td>\n",
       "      <td>97.591559</td>\n",
       "    </tr>\n",
       "    <tr>\n",
       "      <th>all_util</th>\n",
       "      <td>866007</td>\n",
       "      <td>97.591559</td>\n",
       "    </tr>\n",
       "    <tr>\n",
       "      <th>max_bal_bc</th>\n",
       "      <td>866007</td>\n",
       "      <td>97.591559</td>\n",
       "    </tr>\n",
       "    <tr>\n",
       "      <th>open_rv_24m</th>\n",
       "      <td>866007</td>\n",
       "      <td>97.591559</td>\n",
       "    </tr>\n",
       "    <tr>\n",
       "      <th>open_rv_12m</th>\n",
       "      <td>866007</td>\n",
       "      <td>97.591559</td>\n",
       "    </tr>\n",
       "    <tr>\n",
       "      <th>inq_last_12m</th>\n",
       "      <td>866007</td>\n",
       "      <td>97.591559</td>\n",
       "    </tr>\n",
       "    <tr>\n",
       "      <th>total_bal_il</th>\n",
       "      <td>866007</td>\n",
       "      <td>97.591559</td>\n",
       "    </tr>\n",
       "    <tr>\n",
       "      <th>open_il_24m</th>\n",
       "      <td>866007</td>\n",
       "      <td>97.591559</td>\n",
       "    </tr>\n",
       "    <tr>\n",
       "      <th>open_il_12m</th>\n",
       "      <td>866007</td>\n",
       "      <td>97.591559</td>\n",
       "    </tr>\n",
       "    <tr>\n",
       "      <th>open_il_6m</th>\n",
       "      <td>866007</td>\n",
       "      <td>97.591559</td>\n",
       "    </tr>\n",
       "    <tr>\n",
       "      <th>open_acc_6m</th>\n",
       "      <td>866007</td>\n",
       "      <td>97.591559</td>\n",
       "    </tr>\n",
       "    <tr>\n",
       "      <th>mths_since_last_record</th>\n",
       "      <td>750326</td>\n",
       "      <td>84.555303</td>\n",
       "    </tr>\n",
       "    <tr>\n",
       "      <th>mths_since_last_major_derog</th>\n",
       "      <td>665676</td>\n",
       "      <td>75.015974</td>\n",
       "    </tr>\n",
       "  </tbody>\n",
       "</table>\n",
       "</div>"
      ],
      "text/plain": [
       "                             missing value  missing ratio\n",
       "dti_joint                           886870      99.942640\n",
       "annual_inc_joint                    886868      99.942415\n",
       "verification_status_joint           886868      99.942415\n",
       "il_util                             868762      97.902024\n",
       "mths_since_rcnt_il                  866569      97.654892\n",
       "total_cu_tl                         866007      97.591559\n",
       "inq_fi                              866007      97.591559\n",
       "all_util                            866007      97.591559\n",
       "max_bal_bc                          866007      97.591559\n",
       "open_rv_24m                         866007      97.591559\n",
       "open_rv_12m                         866007      97.591559\n",
       "inq_last_12m                        866007      97.591559\n",
       "total_bal_il                        866007      97.591559\n",
       "open_il_24m                         866007      97.591559\n",
       "open_il_12m                         866007      97.591559\n",
       "open_il_6m                          866007      97.591559\n",
       "open_acc_6m                         866007      97.591559\n",
       "mths_since_last_record              750326      84.555303\n",
       "mths_since_last_major_derog         665676      75.015974"
      ]
     },
     "execution_count": 4,
     "metadata": {},
     "output_type": "execute_result"
    }
   ],
   "source": [
    "miss_data=loan.isnull().sum()\n",
    "miss_data_ratio=(loan.isnull().sum()*100/len(loan))\n",
    "miss_data_table=pd.DataFrame({'missing value':miss_data,'missing ratio':miss_data_ratio})\n",
    "miss_data_table.loc[miss_data_table['missing ratio'] > 70].sort_values(by='missing value',ascending=False)"
   ]
  },
  {
   "cell_type": "code",
   "execution_count": 5,
   "metadata": {},
   "outputs": [],
   "source": [
    "# dealing with missing value\n",
    "# drop columns with over 70% of null values, those variables won't help with the later analysis\n",
    "loan = loan.dropna(thresh=300000,how='any',axis=1)"
   ]
  },
  {
   "cell_type": "code",
   "execution_count": 6,
   "metadata": {},
   "outputs": [
    {
     "data": {
      "text/plain": [
       "mths_since_last_delinq        454312\n",
       "next_pymnt_d                  252971\n",
       "total_rev_hi_lim               70276\n",
       "tot_coll_amt                   70276\n",
       "tot_cur_bal                    70276\n",
       "emp_length                     44825\n",
       "last_pymnt_d                   17659\n",
       "revol_util                       502\n",
       "collections_12_mths_ex_med       145\n",
       "last_credit_pull_d                53\n",
       "total_acc                         29\n",
       "delinq_2yrs                       29\n",
       "earliest_cr_line                  29\n",
       "inq_last_6mths                    29\n",
       "open_acc                          29\n",
       "pub_rec                           29\n",
       "acc_now_delinq                    29\n",
       "annual_inc                         4\n",
       "total_pymnt_inv                    0\n",
       "total_pymnt                        0\n",
       "funded_amnt                        0\n",
       "funded_amnt_inv                    0\n",
       "term                               0\n",
       "int_rate                           0\n",
       "installment                        0\n",
       "grade                              0\n",
       "sub_grade                          0\n",
       "home_ownership                     0\n",
       "verification_status                0\n",
       "issue_d                            0\n",
       "loan_status                        0\n",
       "pymnt_plan                         0\n",
       "purpose                            0\n",
       "addr_state                         0\n",
       "dti                                0\n",
       "application_type                   0\n",
       "policy_code                        0\n",
       "last_pymnt_amnt                    0\n",
       "collection_recovery_fee            0\n",
       "recoveries                         0\n",
       "total_rec_late_fee                 0\n",
       "revol_bal                          0\n",
       "total_rec_int                      0\n",
       "total_rec_prncp                    0\n",
       "initial_list_status                0\n",
       "out_prncp                          0\n",
       "out_prncp_inv                      0\n",
       "loan_amnt                          0\n",
       "dtype: int64"
      ]
     },
     "execution_count": 6,
     "metadata": {},
     "output_type": "execute_result"
    }
   ],
   "source": [
    "loan.isnull().sum().sort_values(ascending=False)"
   ]
  },
  {
   "cell_type": "code",
   "execution_count": 7,
   "metadata": {},
   "outputs": [],
   "source": [
    "# for the columns with less than 70% null-value, I used different methods to fill them\n",
    "# from the toy analysis, I figured out different ways to deal with the date data, I will keep them and deal with them later\n",
    "# for the dates with null value, in order to do the later analysis, fill the missing data with some impossible number to help identify them later\n",
    "r2 = loan.fillna({'last_pymnt_d':'Dec-1900','next_pymnt_d':'Dec-2100'})\n",
    "# in order to keep enough variables, I decide to keep filling other null value \n",
    "loan['mths_since_last_delinq'] = loan['mths_since_last_delinq'].fillna(loan['mths_since_last_delinq'].median())\n",
    "loan['emp_length'] = loan['emp_length'].fillna('0 years')\n",
    "loan['total_rev_hi_lim'] = loan['total_rev_hi_lim'].fillna(loan['total_rev_hi_lim'].median())\n",
    "loan['tot_coll_amt'] = loan['tot_coll_amt'].fillna(loan['tot_coll_amt'].median())\n",
    "loan['tot_cur_bal'] = loan['tot_cur_bal'].fillna(loan['tot_cur_bal'].median())\n",
    "loan['revol_util'] = loan['revol_util'].fillna(loan['revol_util'].median())\n",
    "loan['collections_12_mths_ex_med'] = loan['collections_12_mths_ex_med'].fillna(method='ffill')\n",
    "loan['inq_last_6mths'] = loan['inq_last_6mths'].fillna(method='ffill')\n",
    "loan['revol_util'] = loan['revol_util'].fillna(loan['revol_util'].median())\n",
    "loan['delinq_2yrs'] = loan['delinq_2yrs'].fillna(loan['delinq_2yrs'].median())\n",
    "loan['acc_now_delinq'] = loan['acc_now_delinq'].fillna(loan['acc_now_delinq'].median())\n",
    "loan['open_acc'] = loan['open_acc'].fillna(loan['open_acc'].median())\n",
    "loan['pub_rec'] = loan['pub_rec'].fillna(loan['pub_rec'].median())\n",
    "loan['total_acc'] = loan['total_acc'].fillna(loan['total_acc'].median())\n",
    "loan['annual_inc'] = loan['annual_inc'].fillna(loan['annual_inc'].median())"
   ]
  },
  {
   "cell_type": "code",
   "execution_count": 8,
   "metadata": {},
   "outputs": [
    {
     "data": {
      "text/plain": [
       "next_pymnt_d                  252971\n",
       "last_pymnt_d                   17659\n",
       "last_credit_pull_d                53\n",
       "earliest_cr_line                  29\n",
       "total_rev_hi_lim                   0\n",
       "annual_inc                         0\n",
       "delinq_2yrs                        0\n",
       "dti                                0\n",
       "addr_state                         0\n",
       "purpose                            0\n",
       "pymnt_plan                         0\n",
       "loan_status                        0\n",
       "issue_d                            0\n",
       "verification_status                0\n",
       "emp_length                         0\n",
       "home_ownership                     0\n",
       "mths_since_last_delinq             0\n",
       "sub_grade                          0\n",
       "grade                              0\n",
       "installment                        0\n",
       "int_rate                           0\n",
       "term                               0\n",
       "funded_amnt_inv                    0\n",
       "funded_amnt                        0\n",
       "inq_last_6mths                     0\n",
       "pub_rec                            0\n",
       "open_acc                           0\n",
       "tot_cur_bal                        0\n",
       "tot_coll_amt                       0\n",
       "acc_now_delinq                     0\n",
       "application_type                   0\n",
       "policy_code                        0\n",
       "collections_12_mths_ex_med         0\n",
       "last_pymnt_amnt                    0\n",
       "collection_recovery_fee            0\n",
       "recoveries                         0\n",
       "total_rec_late_fee                 0\n",
       "total_rec_int                      0\n",
       "total_rec_prncp                    0\n",
       "total_pymnt_inv                    0\n",
       "total_pymnt                        0\n",
       "out_prncp_inv                      0\n",
       "out_prncp                          0\n",
       "initial_list_status                0\n",
       "total_acc                          0\n",
       "revol_util                         0\n",
       "revol_bal                          0\n",
       "loan_amnt                          0\n",
       "dtype: int64"
      ]
     },
     "execution_count": 8,
     "metadata": {},
     "output_type": "execute_result"
    }
   ],
   "source": [
    "loan.isnull().sum().sort_values(ascending=False)"
   ]
  },
  {
   "cell_type": "code",
   "execution_count": 9,
   "metadata": {},
   "outputs": [],
   "source": [
    "# create loan_status indicator\n",
    "# 1: notcurent\n",
    "# 0: current and full paid\n",
    "good_loan = [\"Fully Paid\",\"Issued\",\"Does not meet the credit policy. Status:Fully Paid\"] \n",
    "\n",
    "loan_status_ind=[]\n",
    "\n",
    "for x in loan['loan_status']:\n",
    "    if x in good_loan:\n",
    "        loan_status_ind.append(1)\n",
    "    else:\n",
    "        loan_status_ind.append(0)\n",
    "\n",
    "loan['loan_status_ind']=loan_status_ind"
   ]
  },
  {
   "cell_type": "code",
   "execution_count": 10,
   "metadata": {},
   "outputs": [
    {
     "data": {
      "text/plain": [
       "0    669208\n",
       "1    218171\n",
       "Name: loan_status_ind, dtype: int64"
      ]
     },
     "execution_count": 10,
     "metadata": {},
     "output_type": "execute_result"
    }
   ],
   "source": [
    "loan['loan_status_ind'].value_counts()"
   ]
  },
  {
   "cell_type": "code",
   "execution_count": 11,
   "metadata": {},
   "outputs": [
    {
     "data": {
      "text/plain": [
       "term                     2\n",
       "grade                    7\n",
       "sub_grade               35\n",
       "emp_length              12\n",
       "home_ownership           6\n",
       "verification_status      3\n",
       "issue_d                103\n",
       "loan_status             10\n",
       "pymnt_plan               2\n",
       "purpose                 14\n",
       "addr_state              51\n",
       "earliest_cr_line       697\n",
       "initial_list_status      2\n",
       "last_pymnt_d            98\n",
       "next_pymnt_d           100\n",
       "last_credit_pull_d     103\n",
       "application_type         2\n",
       "dtype: int64"
      ]
     },
     "execution_count": 11,
     "metadata": {},
     "output_type": "execute_result"
    }
   ],
   "source": [
    "# Number of unique classes in each object column(check the categorical columns)\n",
    "loan.select_dtypes('object').apply(pd.Series.nunique, axis = 0)"
   ]
  },
  {
   "cell_type": "markdown",
   "metadata": {},
   "source": [
    "1. grade and sub_grade is not the predictable variable, so here I just delete the grade and sub_grade column.\n",
    "\n",
    "2. to simplify our model, I also delete the address state variable, becasue geographical factor doesn't really related to the loan condition.\n",
    "\n",
    "3. for some varaible with too many an objects such as dates, I use some actually days to represent the variable\n"
   ]
  },
  {
   "cell_type": "code",
   "execution_count": 12,
   "metadata": {},
   "outputs": [],
   "source": [
    "# decrease the dimension of addr_state\n",
    "loan['addr_state'].unique()\n",
    "\n",
    "# Make a list with each of the regions by state.\n",
    "\n",
    "west = ['CA', 'OR', 'UT','WA', 'CO', 'NV', 'AK', 'MT', 'HI', 'WY', 'ID']\n",
    "south_west = ['AZ', 'TX', 'NM', 'OK']\n",
    "south_east = ['GA', 'NC', 'VA', 'FL', 'KY', 'SC', 'LA', 'AL', 'WV', 'DC', 'AR', 'DE', 'MS', 'TN' ]\n",
    "mid_west = ['IL', 'MO', 'MN', 'OH', 'WI', 'KS', 'MI', 'SD', 'IA', 'NE', 'IN', 'ND']\n",
    "north_east = ['CT', 'NY', 'PA', 'NJ', 'RI','MA', 'MD', 'VT', 'NH', 'ME']\n",
    "\n",
    "\n",
    "loan['region'] = np.nan\n",
    "\n",
    "def finding_regions(state):\n",
    "    if state in west:\n",
    "        return 'West'\n",
    "    elif state in south_west:\n",
    "        return 'SouthWest'\n",
    "    elif state in south_east:\n",
    "        return 'SouthEast'\n",
    "    elif state in mid_west:\n",
    "        return 'MidWest'\n",
    "    elif state in north_east:\n",
    "        return 'NorthEast'\n",
    "    \n",
    "\n",
    "loan['region'] = loan['addr_state'].apply(finding_regions)"
   ]
  },
  {
   "cell_type": "code",
   "execution_count": 13,
   "metadata": {},
   "outputs": [],
   "source": [
    "# decrease the dimension of emp_length\n",
    "loan['emp_length'].unique()\n",
    "\n",
    "# Make a list with each of the regions by state.\n",
    "\n",
    "short_term=['0 years','<1 year','1 year']\n",
    "mid_term=['2 years','3 years','4 years','5 years','6 years','7 years','8 years','9 years','10 years']\n",
    "long_term=['10+ years']\n",
    "\n",
    "loan['emp_length1'] = np.nan\n",
    "\n",
    "def length(emp):\n",
    "    if emp in short_term:\n",
    "        return 'Short term'\n",
    "    elif emp in mid_term:\n",
    "        return 'Mid term'\n",
    "    elif emp in long_term:\n",
    "        return 'Long term'\n",
    "\n",
    "loan['emp_length1'] = loan['emp_length'].apply(length)"
   ]
  },
  {
   "cell_type": "code",
   "execution_count": 14,
   "metadata": {},
   "outputs": [],
   "source": [
    "# decrease the dimension of the object colunms\n",
    "earliest_cr_line=pd.to_datetime(loan['earliest_cr_line'])\n",
    "loan['today']='Jan-2016'\n",
    "today=pd.to_datetime(loan['today'])\n",
    "loan['credit_age']=today-earliest_cr_line"
   ]
  },
  {
   "cell_type": "code",
   "execution_count": 15,
   "metadata": {},
   "outputs": [],
   "source": [
    "## transfer object to datetime\n",
    "## ????should I also transfer them into months? or date is just ok\n",
    "issue_d=pd.to_datetime(loan['issue_d'])\n",
    "last_credit_pull_d=pd.to_datetime(loan['last_credit_pull_d'])\n",
    "last_pymnt_d=pd.to_datetime(r2['last_pymnt_d'])\n",
    "next_pymnt_d=pd.to_datetime(r2['next_pymnt_d'])\n",
    "\n",
    "\n",
    "# clean the data\n",
    "# I already create the loan_status_ind to present the good loan and bad loan, so I also deleted the original column\n",
    "loan.drop(['grade','sub_grade','addr_state','loan_status','emp_length'],axis=1,inplace=True)\n",
    "\n",
    "# use a different way to interpret date data\n",
    "loan['credit_card_length']=last_credit_pull_d-issue_d\n",
    "loan['pymnt_interval']=next_pymnt_d-last_pymnt_d\n",
    "\n",
    "\n",
    "# drop the original date data to decrease the number of features\n",
    "loan.drop(['issue_d','last_credit_pull_d','last_pymnt_d','next_pymnt_d','today','earliest_cr_line'],axis=1,inplace=True)\n"
   ]
  },
  {
   "cell_type": "code",
   "execution_count": 16,
   "metadata": {},
   "outputs": [
    {
     "data": {
      "text/plain": [
       "0        31380 days\n",
       "1        32020 days\n",
       "2        31594 days\n",
       "3        31380 days\n",
       "4           31 days\n",
       "5        31380 days\n",
       "6           31 days\n",
       "7        31380 days\n",
       "8        32385 days\n",
       "9        32171 days\n",
       "10       31959 days\n",
       "11       31867 days\n",
       "12       32294 days\n",
       "13       31380 days\n",
       "14       31837 days\n",
       "15       31380 days\n",
       "16       31380 days\n",
       "17       31990 days\n",
       "18       31349 days\n",
       "19       32294 days\n",
       "20       31168 days\n",
       "21       31867 days\n",
       "22       31380 days\n",
       "23       31837 days\n",
       "24       32202 days\n",
       "25       32232 days\n",
       "26       73049 days\n",
       "27       32141 days\n",
       "28       32020 days\n",
       "29       31411 days\n",
       "            ...    \n",
       "887349      31 days\n",
       "887350      31 days\n",
       "887351   31168 days\n",
       "887352      31 days\n",
       "887353      31 days\n",
       "887354      31 days\n",
       "887355      31 days\n",
       "887356      31 days\n",
       "887357      31 days\n",
       "887358      31 days\n",
       "887359      31 days\n",
       "887360      31 days\n",
       "887361      31 days\n",
       "887362      31 days\n",
       "887363      31 days\n",
       "887364   31199 days\n",
       "887365      31 days\n",
       "887366   31046 days\n",
       "887367      31 days\n",
       "887368      31 days\n",
       "887369   31229 days\n",
       "887370      31 days\n",
       "887371   31168 days\n",
       "887372      31 days\n",
       "887373      31 days\n",
       "887374      31 days\n",
       "887375      31 days\n",
       "887376      31 days\n",
       "887377      31 days\n",
       "887378      31 days\n",
       "Name: pymnt_interval, Length: 887379, dtype: timedelta64[ns]"
      ]
     },
     "execution_count": 16,
     "metadata": {},
     "output_type": "execute_result"
    }
   ],
   "source": [
    "loan['pymnt_interval']"
   ]
  },
  {
   "cell_type": "code",
   "execution_count": 17,
   "metadata": {},
   "outputs": [],
   "source": [
    "# change the timedelta I created to float in order to do the further analysis\n",
    "loan['pymnt_interval']=loan['pymnt_interval'].astype('timedelta64[D]')\n",
    "loan['credit_age']=loan['credit_age'].astype('timedelta64[D]')\n",
    "loan['credit_card_length']=loan['credit_card_length'].astype('timedelta64[D]')"
   ]
  },
  {
   "cell_type": "code",
   "execution_count": 18,
   "metadata": {},
   "outputs": [],
   "source": [
    "# Because I fill the missing value of last payment day and next payment day with impossible numbers\n",
    "# I identified those impossible numbers as missing value again.\n",
    "pymnt_interval2=loan['pymnt_interval']\n",
    "pymnt_interval2.where(pymnt_interval2>100,31)\n",
    "loan['pymnt_interval']=pymnt_interval2"
   ]
  },
  {
   "cell_type": "code",
   "execution_count": 19,
   "metadata": {},
   "outputs": [],
   "source": [
    "loan['credit_age']=loan['credit_age'].fillna(method='ffill')\n",
    "loan['credit_card_length']=loan['credit_card_length'].fillna(method='ffill')"
   ]
  },
  {
   "cell_type": "code",
   "execution_count": 20,
   "metadata": {},
   "outputs": [
    {
     "data": {
      "text/plain": [
       "term                    2\n",
       "home_ownership          6\n",
       "verification_status     3\n",
       "pymnt_plan              2\n",
       "purpose                14\n",
       "initial_list_status     2\n",
       "application_type        2\n",
       "region                  5\n",
       "emp_length1             3\n",
       "dtype: int64"
      ]
     },
     "execution_count": 20,
     "metadata": {},
     "output_type": "execute_result"
    }
   ],
   "source": [
    "loan.select_dtypes('object').apply(pd.Series.nunique, axis = 0)"
   ]
  },
  {
   "cell_type": "code",
   "execution_count": 21,
   "metadata": {},
   "outputs": [],
   "source": [
    "## Encoding Catergorical variables\n",
    "# one-hot encoding of categorical variables\n",
    "loan2 = pd.get_dummies(loan)"
   ]
  },
  {
   "cell_type": "code",
   "execution_count": 22,
   "metadata": {},
   "outputs": [
    {
     "data": {
      "text/plain": [
       "emp_length1_Short term                 0\n",
       "total_pymnt_inv                        0\n",
       "total_rec_int                          0\n",
       "total_rec_late_fee                     0\n",
       "recoveries                             0\n",
       "collection_recovery_fee                0\n",
       "last_pymnt_amnt                        0\n",
       "collections_12_mths_ex_med             0\n",
       "policy_code                            0\n",
       "acc_now_delinq                         0\n",
       "tot_coll_amt                           0\n",
       "tot_cur_bal                            0\n",
       "total_rev_hi_lim                       0\n",
       "loan_status_ind                        0\n",
       "credit_age                             0\n",
       "credit_card_length                     0\n",
       "pymnt_interval                         0\n",
       "total_rec_prncp                        0\n",
       "total_pymnt                            0\n",
       "emp_length1_Mid term                   0\n",
       "out_prncp_inv                          0\n",
       "funded_amnt                            0\n",
       "funded_amnt_inv                        0\n",
       "int_rate                               0\n",
       "installment                            0\n",
       "annual_inc                             0\n",
       "dti                                    0\n",
       "delinq_2yrs                            0\n",
       "inq_last_6mths                         0\n",
       "mths_since_last_delinq                 0\n",
       "                                      ..\n",
       "purpose_wedding                        0\n",
       "initial_list_status_f                  0\n",
       "initial_list_status_w                  0\n",
       "application_type_INDIVIDUAL            0\n",
       "application_type_JOINT                 0\n",
       "region_MidWest                         0\n",
       "region_NorthEast                       0\n",
       "region_SouthEast                       0\n",
       "region_SouthWest                       0\n",
       "region_West                            0\n",
       "emp_length1_Long term                  0\n",
       "purpose_moving                         0\n",
       "purpose_medical                        0\n",
       "purpose_major_purchase                 0\n",
       "verification_status_Verified           0\n",
       "home_ownership_NONE                    0\n",
       "home_ownership_OTHER                   0\n",
       "home_ownership_OWN                     0\n",
       "home_ownership_RENT                    0\n",
       "verification_status_Not Verified       0\n",
       "verification_status_Source Verified    0\n",
       "pymnt_plan_n                           0\n",
       "purpose_house                          0\n",
       "pymnt_plan_y                           0\n",
       "purpose_car                            0\n",
       "purpose_credit_card                    0\n",
       "purpose_debt_consolidation             0\n",
       "purpose_educational                    0\n",
       "purpose_home_improvement               0\n",
       "loan_amnt                              0\n",
       "Length: 74, dtype: int64"
      ]
     },
     "execution_count": 22,
     "metadata": {},
     "output_type": "execute_result"
    }
   ],
   "source": [
    "loan2.isnull().sum().sort_values(ascending=False)"
   ]
  },
  {
   "cell_type": "code",
   "execution_count": 23,
   "metadata": {
    "scrolled": true
   },
   "outputs": [
    {
     "name": "stdout",
     "output_type": "stream",
     "text": [
      "Most Positive Correlations:\n",
      " tot_coll_amt             -0.002468\n",
      "total_acc                -0.002130\n",
      "int_rate                  0.000207\n",
      "credit_age                0.011586\n",
      "mths_since_last_delinq    0.014591\n",
      "total_rec_int             0.020000\n",
      "inq_last_6mths            0.086164\n",
      "credit_card_length        0.389938\n",
      "total_pymnt_inv           0.502810\n",
      "total_pymnt               0.507555\n",
      "total_rec_prncp           0.600629\n",
      "last_pymnt_amnt           0.625692\n",
      "pymnt_interval            0.831925\n",
      "loan_status_ind           1.000000\n",
      "policy_code                    NaN\n",
      "Name: loan_status_ind, dtype: float64\n",
      "\n",
      "Most Negative Correlations:\n",
      " out_prncp                 -0.525048\n",
      "out_prncp_inv             -0.525046\n",
      "funded_amnt_inv           -0.099037\n",
      "funded_amnt               -0.094822\n",
      "loan_amnt                 -0.093013\n",
      "recoveries                -0.063996\n",
      "dti                       -0.063367\n",
      "open_acc                  -0.063183\n",
      "installment               -0.054544\n",
      "pub_rec                   -0.047573\n",
      "revol_util                -0.046855\n",
      "collection_recovery_fee   -0.044147\n",
      "delinq_2yrs               -0.043723\n",
      "total_rev_hi_lim          -0.039195\n",
      "revol_bal                 -0.038169\n",
      "Name: loan_status_ind, dtype: float64\n"
     ]
    }
   ],
   "source": [
    " # Find correlations with the target and sort\n",
    "correlations = loan.corr()['loan_status_ind'].sort_values(ascending=True)\n",
    "\n",
    "# Display correlations\n",
    "print('Most Positive Correlations:\\n', correlations.tail(15))\n",
    "print('\\nMost Negative Correlations:\\n', correlations.head(15))"
   ]
  },
  {
   "cell_type": "code",
   "execution_count": 24,
   "metadata": {},
   "outputs": [
    {
     "data": {
      "image/png": "[encoded data removed]",
      "text/plain": [
       "<Figure size 720x576 with 2 Axes>"
      ]
     },
     "metadata": {
      "needs_background": "light"
     },
     "output_type": "display_data"
    }
   ],
   "source": [
    "plt.figure(figsize = (10, 8))\n",
    "loan_corr= loan.corr()\n",
    "# Heatmap of correlations\n",
    "sns.heatmap(loan_corr, cmap = plt.cm.RdYlBu_r, vmin = -0.7, annot = False, vmax = 0.9)\n",
    "plt.title('Correlation Heatmap');"
   ]
  },
  {
   "cell_type": "code",
   "execution_count": 25,
   "metadata": {},
   "outputs": [],
   "source": [
    "# import packages \n",
    "from sklearn.datasets import fetch_mldata\n",
    "from sklearn.preprocessing import StandardScaler\n",
    "from sklearn import metrics\n",
    "from sklearn.model_selection import train_test_split, GridSearchCV\n",
    "from sklearn.model_selection import cross_val_score, cross_val_predict\n",
    "from sklearn.metrics import accuracy_score, classification_report, confusion_matrix"
   ]
  },
  {
   "cell_type": "markdown",
   "metadata": {},
   "source": [
    "Before building the models, let's split the train and test data set and adjust the unbalanced data(since over 90% of the loans are good loans)"
   ]
  },
  {
   "cell_type": "code",
   "execution_count": 26,
   "metadata": {},
   "outputs": [],
   "source": [
    "##split the training data and the test data\n",
    "y=loan2[\"loan_status_ind\"]\n",
    "X=loan2.drop(\"loan_status_ind\",axis=1)\n",
    "X_train, X_test, y_train, y_test = train_test_split(\n",
    "      X, y, test_size=0.33, random_state=42)"
   ]
  },
  {
   "cell_type": "code",
   "execution_count": 27,
   "metadata": {},
   "outputs": [],
   "source": [
    "# SMOTE technique to adjust the imbalanced data\n",
    "# from imblearn.over_sampling import SMOTE\n",
    "\n",
    "# smote = SMOTE(ratio=1.0)\n",
    "# X_train_r, y_train_r = smote.fit_sample(X_train, y_train)"
   ]
  },
  {
   "cell_type": "code",
   "execution_count": 28,
   "metadata": {},
   "outputs": [],
   "source": [
    "# assign the model performance score and build the matrix\n",
    "# since this is a imbalanced problem, I want to focus more on recall and precise\n",
    "def performance(model,X_train,y_train,X_test,y_test):\n",
    "    crossval=cross_val_score(model,X_train,y_train,cv=5,scoring='accuracy')\n",
    "    print(\"Average Accuracy for train: \\t {0:.4f}\\n\".format(np.mean(crossval)))\n",
    "    print(\"Classification Report: \\n{}\\n\".format(classification_report(y_test,model.predict(X_test))))\n",
    "    print(\"Confusion Matrix: \\n {}\\n\".format(confusion_matrix(y_test, model.predict(X_test))))   "
   ]
  },
  {
   "cell_type": "markdown",
   "metadata": {},
   "source": [
    "Model 1:\n",
    "logistic regression"
   ]
  },
  {
   "cell_type": "code",
   "execution_count": 29,
   "metadata": {},
   "outputs": [],
   "source": [
    "##Standardize data\n",
    "\n",
    "# scaler = StandardScaler()\n",
    "\n",
    "# Fit on training set only.\n",
    "# scaler.fit(X_train)\n",
    "\n",
    "# Apply transform to both the training set and the test set.\n",
    "# X_train = scaler.transform(X_train)\n",
    "# X_test = scaler.transform(X_test)"
   ]
  },
  {
   "cell_type": "code",
   "execution_count": 30,
   "metadata": {},
   "outputs": [
    {
     "name": "stderr",
     "output_type": "stream",
     "text": [
      "/anaconda3/lib/python3.7/site-packages/sklearn/linear_model/sag.py:334: ConvergenceWarning: The max_iter was reached which means the coef_ did not converge\n",
      "  \"the coef_ did not converge\", ConvergenceWarning)\n"
     ]
    },
    {
     "data": {
      "text/plain": [
       "LogisticRegression(C=0.0001, class_weight=None, dual=False,\n",
       "          fit_intercept=True, intercept_scaling=1, max_iter=100,\n",
       "          multi_class='warn', n_jobs=None, penalty='l2', random_state=21,\n",
       "          solver='sag', tol=0.0001, verbose=0, warm_start=False)"
      ]
     },
     "execution_count": 30,
     "metadata": {},
     "output_type": "execute_result"
    }
   ],
   "source": [
    "# all parameters not specified are set to their defaults\n",
    "# default solver is incredibly slow thats why we change it\n",
    "# solver = 'lbfgs'\n",
    "\n",
    "from sklearn.linear_model import LogisticRegression\n",
    "\n",
    "logisticRegr = LogisticRegression(C = 0.0001, random_state=21, solver='sag')\n",
    "logisticRegr.fit(X_train, y_train)"
   ]
  },
  {
   "cell_type": "code",
   "execution_count": 31,
   "metadata": {},
   "outputs": [
    {
     "name": "stderr",
     "output_type": "stream",
     "text": [
      "/anaconda3/lib/python3.7/site-packages/sklearn/linear_model/sag.py:334: ConvergenceWarning: The max_iter was reached which means the coef_ did not converge\n",
      "  \"the coef_ did not converge\", ConvergenceWarning)\n",
      "/anaconda3/lib/python3.7/site-packages/sklearn/linear_model/sag.py:334: ConvergenceWarning: The max_iter was reached which means the coef_ did not converge\n",
      "  \"the coef_ did not converge\", ConvergenceWarning)\n",
      "/anaconda3/lib/python3.7/site-packages/sklearn/linear_model/sag.py:334: ConvergenceWarning: The max_iter was reached which means the coef_ did not converge\n",
      "  \"the coef_ did not converge\", ConvergenceWarning)\n",
      "/anaconda3/lib/python3.7/site-packages/sklearn/linear_model/sag.py:334: ConvergenceWarning: The max_iter was reached which means the coef_ did not converge\n",
      "  \"the coef_ did not converge\", ConvergenceWarning)\n",
      "/anaconda3/lib/python3.7/site-packages/sklearn/linear_model/sag.py:334: ConvergenceWarning: The max_iter was reached which means the coef_ did not converge\n",
      "  \"the coef_ did not converge\", ConvergenceWarning)\n"
     ]
    },
    {
     "name": "stdout",
     "output_type": "stream",
     "text": [
      "Average Accuracy for train: \t 0.9682\n",
      "\n",
      "Classification Report: \n",
      "              precision    recall  f1-score   support\n",
      "\n",
      "           0       0.99      0.97      0.98    220621\n",
      "           1       0.92      0.96      0.94     72215\n",
      "\n",
      "   micro avg       0.97      0.97      0.97    292836\n",
      "   macro avg       0.95      0.97      0.96    292836\n",
      "weighted avg       0.97      0.97      0.97    292836\n",
      "\n",
      "\n",
      "Confusion Matrix: \n",
      " [[214484   6137]\n",
      " [  2874  69341]]\n",
      "\n"
     ]
    }
   ],
   "source": [
    "performance(logisticRegr,X_train,y_train,X_test,y_test)"
   ]
  },
  {
   "cell_type": "code",
   "execution_count": null,
   "metadata": {},
   "outputs": [],
   "source": [
    "# # gridsearch\n",
    "# param_grid = [{'C': [0.001, 0.01, 0.1, 1, 10, 100] }]\n",
    "# logistic_grid = GridSearchCV(LogisticRegression(), param_grid)\n",
    "# logistic_grid.fit(X_train,y_train)\n",
    "# logistic_grid.best_params_"
   ]
  },
  {
   "cell_type": "markdown",
   "metadata": {},
   "source": [
    "Model 2: Decision tree"
   ]
  },
  {
   "cell_type": "code",
   "execution_count": 32,
   "metadata": {},
   "outputs": [
    {
     "data": {
      "text/plain": [
       "DecisionTreeClassifier(class_weight=None, criterion='gini', max_depth=None,\n",
       "            max_features=None, max_leaf_nodes=None,\n",
       "            min_impurity_decrease=0.0, min_impurity_split=None,\n",
       "            min_samples_leaf=1, min_samples_split=2,\n",
       "            min_weight_fraction_leaf=0.0, presort=False, random_state=None,\n",
       "            splitter='best')"
      ]
     },
     "execution_count": 32,
     "metadata": {},
     "output_type": "execute_result"
    }
   ],
   "source": [
    "from sklearn import tree\n",
    "Decisiontree = tree.DecisionTreeClassifier()\n",
    "Decisiontree.fit(X_train, y_train)"
   ]
  },
  {
   "cell_type": "code",
   "execution_count": 33,
   "metadata": {},
   "outputs": [
    {
     "name": "stdout",
     "output_type": "stream",
     "text": [
      "Average Accuracy for train: \t 0.9964\n",
      "\n",
      "Classification Report: \n",
      "              precision    recall  f1-score   support\n",
      "\n",
      "           0       1.00      1.00      1.00    220621\n",
      "           1       0.99      0.99      0.99     72215\n",
      "\n",
      "   micro avg       1.00      1.00      1.00    292836\n",
      "   macro avg       1.00      1.00      1.00    292836\n",
      "weighted avg       1.00      1.00      1.00    292836\n",
      "\n",
      "\n",
      "Confusion Matrix: \n",
      " [[220099    522]\n",
      " [   428  71787]]\n",
      "\n"
     ]
    }
   ],
   "source": [
    "performance(Decisiontree,X_train, y_train, X_test, y_test)"
   ]
  },
  {
   "cell_type": "markdown",
   "metadata": {},
   "source": [
    "Model 3: Random Forest"
   ]
  },
  {
   "cell_type": "code",
   "execution_count": 34,
   "metadata": {},
   "outputs": [
    {
     "name": "stderr",
     "output_type": "stream",
     "text": [
      "[Parallel(n_jobs=-1)]: Using backend ThreadingBackend with 4 concurrent workers.\n",
      "[Parallel(n_jobs=-1)]: Done  42 tasks      | elapsed:   31.0s\n",
      "[Parallel(n_jobs=-1)]: Done 100 out of 100 | elapsed:  1.2min finished\n"
     ]
    },
    {
     "data": {
      "text/plain": [
       "RandomForestClassifier(bootstrap=True, class_weight=None, criterion='gini',\n",
       "            max_depth=None, max_features='auto', max_leaf_nodes=None,\n",
       "            min_impurity_decrease=0.0, min_impurity_split=None,\n",
       "            min_samples_leaf=1, min_samples_split=2,\n",
       "            min_weight_fraction_leaf=0.0, n_estimators=100, n_jobs=-1,\n",
       "            oob_score=False, random_state=50, verbose=1, warm_start=False)"
      ]
     },
     "execution_count": 34,
     "metadata": {},
     "output_type": "execute_result"
    }
   ],
   "source": [
    "from sklearn.ensemble import RandomForestClassifier\n",
    "\n",
    "random_forest = RandomForestClassifier(n_estimators=40, random_state=21)\n",
    "random_forest.fit(X_train, y_train)"
   ]
  },
  {
   "cell_type": "code",
   "execution_count": 35,
   "metadata": {},
   "outputs": [],
   "source": [
    "# gridsearch"
   ]
  },
  {
   "cell_type": "code",
   "execution_count": 36,
   "metadata": {},
   "outputs": [
    {
     "name": "stderr",
     "output_type": "stream",
     "text": [
      "[Parallel(n_jobs=-1)]: Using backend LokyBackend with 4 concurrent workers.\n",
      "[Parallel(n_jobs=-1)]: Done  42 tasks      | elapsed:   23.9s\n",
      "[Parallel(n_jobs=-1)]: Done 100 out of 100 | elapsed:   52.8s finished\n",
      "[Parallel(n_jobs=4)]: Using backend ThreadingBackend with 4 concurrent workers.\n",
      "[Parallel(n_jobs=4)]: Done  42 tasks      | elapsed:    0.3s\n",
      "[Parallel(n_jobs=4)]: Done 100 out of 100 | elapsed:    0.7s finished\n",
      "[Parallel(n_jobs=-1)]: Using backend LokyBackend with 4 concurrent workers.\n",
      "[Parallel(n_jobs=-1)]: Done  42 tasks      | elapsed:   22.3s\n",
      "[Parallel(n_jobs=-1)]: Done 100 out of 100 | elapsed:   47.9s finished\n",
      "[Parallel(n_jobs=4)]: Using backend ThreadingBackend with 4 concurrent workers.\n",
      "[Parallel(n_jobs=4)]: Done  42 tasks      | elapsed:    0.2s\n",
      "[Parallel(n_jobs=4)]: Done 100 out of 100 | elapsed:    0.5s finished\n",
      "[Parallel(n_jobs=-1)]: Using backend LokyBackend with 4 concurrent workers.\n",
      "[Parallel(n_jobs=-1)]: Done  42 tasks      | elapsed:   19.6s\n",
      "[Parallel(n_jobs=-1)]: Done 100 out of 100 | elapsed:   44.7s finished\n",
      "[Parallel(n_jobs=4)]: Using backend ThreadingBackend with 4 concurrent workers.\n",
      "[Parallel(n_jobs=4)]: Done  42 tasks      | elapsed:    0.2s\n",
      "[Parallel(n_jobs=4)]: Done 100 out of 100 | elapsed:    0.4s finished\n",
      "[Parallel(n_jobs=-1)]: Using backend LokyBackend with 4 concurrent workers.\n",
      "[Parallel(n_jobs=-1)]: Done  42 tasks      | elapsed:   19.6s\n",
      "[Parallel(n_jobs=-1)]: Done 100 out of 100 | elapsed:   45.3s finished\n",
      "[Parallel(n_jobs=4)]: Using backend ThreadingBackend with 4 concurrent workers.\n",
      "[Parallel(n_jobs=4)]: Done  42 tasks      | elapsed:    0.2s\n",
      "[Parallel(n_jobs=4)]: Done 100 out of 100 | elapsed:    0.5s finished\n",
      "[Parallel(n_jobs=-1)]: Using backend LokyBackend with 4 concurrent workers.\n",
      "[Parallel(n_jobs=-1)]: Done  42 tasks      | elapsed:   19.6s\n",
      "[Parallel(n_jobs=-1)]: Done 100 out of 100 | elapsed:   45.9s finished\n",
      "[Parallel(n_jobs=4)]: Using backend ThreadingBackend with 4 concurrent workers.\n",
      "[Parallel(n_jobs=4)]: Done  42 tasks      | elapsed:    0.2s\n",
      "[Parallel(n_jobs=4)]: Done 100 out of 100 | elapsed:    0.5s finished\n"
     ]
    },
    {
     "name": "stdout",
     "output_type": "stream",
     "text": [
      "Average Accuracy for train: \t 0.9979\n",
      "\n"
     ]
    },
    {
     "name": "stderr",
     "output_type": "stream",
     "text": [
      "[Parallel(n_jobs=4)]: Using backend ThreadingBackend with 4 concurrent workers.\n",
      "[Parallel(n_jobs=4)]: Done  42 tasks      | elapsed:    0.5s\n",
      "[Parallel(n_jobs=4)]: Done 100 out of 100 | elapsed:    1.3s finished\n"
     ]
    },
    {
     "name": "stdout",
     "output_type": "stream",
     "text": [
      "Classification Report: \n",
      "              precision    recall  f1-score   support\n",
      "\n",
      "           0       1.00      1.00      1.00    220621\n",
      "           1       1.00      1.00      1.00     72215\n",
      "\n",
      "   micro avg       1.00      1.00      1.00    292836\n",
      "   macro avg       1.00      1.00      1.00    292836\n",
      "weighted avg       1.00      1.00      1.00    292836\n",
      "\n",
      "\n"
     ]
    },
    {
     "name": "stderr",
     "output_type": "stream",
     "text": [
      "[Parallel(n_jobs=4)]: Using backend ThreadingBackend with 4 concurrent workers.\n",
      "[Parallel(n_jobs=4)]: Done  42 tasks      | elapsed:    0.5s\n",
      "[Parallel(n_jobs=4)]: Done 100 out of 100 | elapsed:    1.2s finished\n"
     ]
    },
    {
     "name": "stdout",
     "output_type": "stream",
     "text": [
      "Confusion Matrix: \n",
      " [[220435    186]\n",
      " [   357  71858]]\n",
      "\n"
     ]
    }
   ],
   "source": [
    "performance(random_forest,X_train,y_train,X_test,y_test)"
   ]
  },
  {
   "cell_type": "code",
   "execution_count": null,
   "metadata": {},
   "outputs": [],
   "source": [
    " # Extract feature importances\n",
    "# feature_importance_values = random_forest.feature_importances_\n",
    "# feature_importances = pd.DataFrame({'feature': features, 'importance': feature_importance_values})\n",
    "# feature_importances.sort_values(by = ['importance'],ascending = False)"
   ]
  },
  {
   "cell_type": "markdown",
   "metadata": {},
   "source": [
    "Model4: NeroNetwork"
   ]
  },
  {
   "cell_type": "code",
   "execution_count": 37,
   "metadata": {},
   "outputs": [
    {
     "data": {
      "text/plain": [
       "MLPClassifier(activation='relu', alpha=1e-05, batch_size='auto', beta_1=0.9,\n",
       "       beta_2=0.999, early_stopping=False, epsilon=1e-08,\n",
       "       hidden_layer_sizes=(5, 2), learning_rate='constant',\n",
       "       learning_rate_init=0.001, max_iter=200, momentum=0.9,\n",
       "       n_iter_no_change=10, nesterovs_momentum=True, power_t=0.5,\n",
       "       random_state=1, shuffle=True, solver='lbfgs', tol=0.0001,\n",
       "       validation_fraction=0.1, verbose=False, warm_start=False)"
      ]
     },
     "execution_count": 37,
     "metadata": {},
     "output_type": "execute_result"
    }
   ],
   "source": [
    "from sklearn.neural_network import MLPClassifier\n",
    "\n",
    "neuralnet = MLPClassifier(solver='lbfgs', alpha=1e-5,\n",
    "                    hidden_layer_sizes=(5, 2), random_state=1)\n",
    "neuralnet.fit(X_train, y_train)                         "
   ]
  },
  {
   "cell_type": "code",
   "execution_count": 38,
   "metadata": {},
   "outputs": [],
   "source": [
    "# gridsearch"
   ]
  },
  {
   "cell_type": "code",
   "execution_count": 39,
   "metadata": {},
   "outputs": [
    {
     "name": "stdout",
     "output_type": "stream",
     "text": [
      "Average Accuracy for train: \t 0.8646\n",
      "\n"
     ]
    },
    {
     "name": "stderr",
     "output_type": "stream",
     "text": [
      "/anaconda3/lib/python3.7/site-packages/sklearn/metrics/classification.py:1143: UndefinedMetricWarning: Precision and F-score are ill-defined and being set to 0.0 in labels with no predicted samples.\n",
      "  'precision', 'predicted', average, warn_for)\n",
      "/anaconda3/lib/python3.7/site-packages/sklearn/metrics/classification.py:1143: UndefinedMetricWarning: Precision and F-score are ill-defined and being set to 0.0 in labels with no predicted samples.\n",
      "  'precision', 'predicted', average, warn_for)\n",
      "/anaconda3/lib/python3.7/site-packages/sklearn/metrics/classification.py:1143: UndefinedMetricWarning: Precision and F-score are ill-defined and being set to 0.0 in labels with no predicted samples.\n",
      "  'precision', 'predicted', average, warn_for)\n"
     ]
    },
    {
     "name": "stdout",
     "output_type": "stream",
     "text": [
      "Classification Report: \n",
      "              precision    recall  f1-score   support\n",
      "\n",
      "           0       0.75      1.00      0.86    220621\n",
      "           1       0.00      0.00      0.00     72215\n",
      "\n",
      "   micro avg       0.75      0.75      0.75    292836\n",
      "   macro avg       0.38      0.50      0.43    292836\n",
      "weighted avg       0.57      0.75      0.65    292836\n",
      "\n",
      "\n",
      "Confusion Matrix: \n",
      " [[220621      0]\n",
      " [ 72215      0]]\n",
      "\n"
     ]
    }
   ],
   "source": [
    "performance(neuralnet,X_train,y_train,X_test,y_test)"
   ]
  },
  {
   "cell_type": "markdown",
   "metadata": {},
   "source": [
    "Model 5: Adaboost"
   ]
  },
  {
   "cell_type": "code",
   "execution_count": 40,
   "metadata": {},
   "outputs": [
    {
     "data": {
      "text/plain": [
       "AdaBoostClassifier(algorithm='SAMME',\n",
       "          base_estimator=DecisionTreeClassifier(class_weight=None, criterion='gini', max_depth=1,\n",
       "            max_features=None, max_leaf_nodes=None,\n",
       "            min_impurity_decrease=0.0, min_impurity_split=None,\n",
       "            min_samples_leaf=1, min_samples_split=2,\n",
       "            min_weight_fraction_leaf=0.0, presort=False, random_state=None,\n",
       "            splitter='best'),\n",
       "          learning_rate=1.0, n_estimators=200, random_state=None)"
      ]
     },
     "execution_count": 40,
     "metadata": {},
     "output_type": "execute_result"
    }
   ],
   "source": [
    "from sklearn.ensemble import AdaBoostClassifier\n",
    "from sklearn.tree import DecisionTreeClassifier\n",
    "\n",
    "# Create and fit an AdaBoosted decision tree\n",
    "bdt = AdaBoostClassifier(DecisionTreeClassifier(max_depth=1),\n",
    "                         algorithm=\"SAMME\",\n",
    "                         n_estimators=200)\n",
    "\n",
    "bdt.fit(X_train, y_train)"
   ]
  },
  {
   "cell_type": "code",
   "execution_count": 41,
   "metadata": {},
   "outputs": [],
   "source": [
    "# gridsearch"
   ]
  },
  {
   "cell_type": "code",
   "execution_count": 42,
   "metadata": {},
   "outputs": [
    {
     "name": "stdout",
     "output_type": "stream",
     "text": [
      "Average Accuracy for train: \t 0.9954\n",
      "\n",
      "Classification Report: \n",
      "              precision    recall  f1-score   support\n",
      "\n",
      "           0       1.00      1.00      1.00    220621\n",
      "           1       0.99      0.99      0.99     72215\n",
      "\n",
      "   micro avg       1.00      1.00      1.00    292836\n",
      "   macro avg       0.99      0.99      0.99    292836\n",
      "weighted avg       1.00      1.00      1.00    292836\n",
      "\n",
      "\n",
      "Confusion Matrix: \n",
      " [[219816    805]\n",
      " [   548  71667]]\n",
      "\n"
     ]
    }
   ],
   "source": [
    "performance(bdt,X_train,y_train,X_test,y_test)"
   ]
  },
  {
   "cell_type": "code",
   "execution_count": null,
   "metadata": {},
   "outputs": [],
   "source": []
  }
 ],
 "metadata": {
  "colab": {
   "name": "Project-lending club.ipynb",
   "provenance": [],
   "version": "0.3.2"
  },
  "kernelspec": {
   "display_name": "Python 3",
   "language": "python",
   "name": "python3"
  },
  "language_info": {
   "codemirror_mode": {
    "name": "ipython",
    "version": 3
   },
   "file_extension": ".py",
   "mimetype": "text/x-python",
   "name": "python",
   "nbconvert_exporter": "python",
   "pygments_lexer": "ipython3",
   "version": "3.7.3"
  }
 },
 "nbformat": 4,
 "nbformat_minor": 1
}
